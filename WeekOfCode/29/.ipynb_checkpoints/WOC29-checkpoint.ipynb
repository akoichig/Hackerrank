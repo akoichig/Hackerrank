{
 "cells": [
  {
   "cell_type": "code",
   "execution_count": 2,
   "metadata": {
    "collapsed": false
   },
   "outputs": [
    {
     "data": {
      "text/plain": [
       "12"
      ]
     },
     "execution_count": 2,
     "metadata": {},
     "output_type": "execute_result"
    }
   ],
   "source": [
    "numDays = [31, 28, 31, 30, 31, 30, 31, 31, 30, 31, 30, 12]\n",
    "len(numDays)          "
   ]
  },
  {
   "cell_type": "code",
   "execution_count": 3,
   "metadata": {
    "collapsed": false
   },
   "outputs": [
    {
     "name": "stdout",
     "output_type": "stream",
     "text": [
      "4\n",
      "6\n",
      "9\n",
      "11\n"
     ]
    }
   ],
   "source": [
    "for i in range(12):\n",
    "    if numDays[i]==30: print i+1"
   ]
  },
  {
   "cell_type": "code",
   "execution_count": 12,
   "metadata": {
    "collapsed": false
   },
   "outputs": [
    {
     "data": {
      "text/plain": [
       "243"
      ]
     },
     "execution_count": 12,
     "metadata": {},
     "output_type": "execute_result"
    }
   ],
   "source": [
    "sum(numDays[:8])"
   ]
  },
  {
   "cell_type": "code",
   "execution_count": 4,
   "metadata": {
    "collapsed": false
   },
   "outputs": [
    {
     "name": "stdout",
     "output_type": "stream",
     "text": [
      "1700 False True False False\n",
      "1701 False False True False\n",
      "1800 False True False False\n",
      "1917 False False True False\n",
      "1918 False False True False\n",
      "2000 True True False True\n",
      "2700 False True False False\n",
      "2004 False True True True\n"
     ]
    }
   ],
   "source": [
    "for y in [1700, 1701, 1800, 1917, 1918, 2000, 2700, 2004]:\n",
    "    print y, (y % 400==0), (y % 4 == 0), (y % 100 != 0), (y % 400==0) or ((y % 4 == 0) and (y % 100 != 0))"
   ]
  },
  {
   "cell_type": "markdown",
   "metadata": {
    "collapsed": true
   },
   "source": [
    "# A Square and  a Circle"
   ]
  },
  {
   "cell_type": "code",
   "execution_count": 20,
   "metadata": {
    "collapsed": false
   },
   "outputs": [],
   "source": [
    "testCase = '''20 16\n",
    "9 6 5\n",
    "16 14 8 14\n",
    "'''\n",
    "# orig. 16 14 8 14\n",
    "testCase = testCase.split('\\n')\n",
    "w,h = map(int, testCase[0].split())\n",
    "circleX, circleY, r = map(int, testCase[1].split())\n",
    "x1, y1, x3, y3 = map(int, testCase[2].split())\n",
    "if x1>x3:\n",
    "    x3, x1 = x1, x3\n",
    "    y3, y1 = y1, y3\n",
    "if x1==x3:\n",
    "    y1, y3 = min(y1, y3), max(y1, y3)"
   ]
  },
  {
   "cell_type": "code",
   "execution_count": 21,
   "metadata": {
    "collapsed": false
   },
   "outputs": [
    {
     "name": "stdout",
     "output_type": "stream",
     "text": [
      "(8, 14)\n",
      "(12.0, 18.0)\n",
      "(16, 14)\n",
      "(12.0, 10.0)\n"
     ]
    }
   ],
   "source": [
    "import math\n",
    "\n",
    "dx = x3-x1\n",
    "dy = y3-y1\n",
    "sx = x1+x3\n",
    "sy = y1+y3\n",
    "\n",
    "if dy==0:\n",
    "    x2, y2 = sx/2.0, y1+dx/2.0\n",
    "    x4, y4 = sx/2.0, y1-dx/2.0\n",
    "else:\n",
    "    A = 2\n",
    "    B = -sx\n",
    "    C = -2*dx/float(dy)\n",
    "    D = dx*sx/float(dy)\n",
    "    E = dx*dx+dy*dy\n",
    "\n",
    "    def f(x):\n",
    "        return dy*(x-x1)/float(dx)+y1\n",
    "    disc = (A*B+C*D)**2-(A**2+C**2)*(B**2+D**2-E**2)\n",
    "    x2 = (-A*B-C*D+math.sqrt(disc))/float(A**2+C**2)\n",
    "    x4 = (-A*B-C*D-math.sqrt(disc))/float(A**2+C**2)\n",
    "    \n",
    "    def g(x):\n",
    "        return -dx*(x-sx/2)/float(dy)+sy/2.0\n",
    "    y2 = g(x2)\n",
    "    y4 = g(x4)\n",
    "    if y2<y4:\n",
    "        x2, x4 = x4, x2\n",
    "        y2, y4 = y4, y2\n",
    "        \n",
    "def seeData():        \n",
    "    print(x1, y1)\n",
    "    print(x2, y2)\n",
    "    print(x3, y3)\n",
    "    print(x4, y4)\n",
    "\n",
    "        "
   ]
  },
  {
   "cell_type": "code",
   "execution_count": null,
   "metadata": {
    "collapsed": true
   },
   "outputs": [],
   "source": []
  }
 ],
 "metadata": {
  "kernelspec": {
   "display_name": "Python 2",
   "language": "python",
   "name": "python2"
  },
  "language_info": {
   "codemirror_mode": {
    "name": "ipython",
    "version": 2
   },
   "file_extension": ".py",
   "mimetype": "text/x-python",
   "name": "python",
   "nbconvert_exporter": "python",
   "pygments_lexer": "ipython2",
   "version": "2.7.12"
  }
 },
 "nbformat": 4,
 "nbformat_minor": 1
}
