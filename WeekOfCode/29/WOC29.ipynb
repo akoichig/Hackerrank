{
 "cells": [
  {
   "cell_type": "code",
   "execution_count": 2,
   "metadata": {
    "collapsed": false
   },
   "outputs": [
    {
     "data": {
      "text/plain": [
       "12"
      ]
     },
     "execution_count": 2,
     "metadata": {},
     "output_type": "execute_result"
    }
   ],
   "source": [
    "numDays = [31, 28, 31, 30, 31, 30, 31, 31, 30, 31, 30, 12]\n",
    "len(numDays)          "
   ]
  },
  {
   "cell_type": "code",
   "execution_count": 3,
   "metadata": {
    "collapsed": false
   },
   "outputs": [
    {
     "name": "stdout",
     "output_type": "stream",
     "text": [
      "4\n",
      "6\n",
      "9\n",
      "11\n"
     ]
    }
   ],
   "source": [
    "for i in range(12):\n",
    "    if numDays[i]==30: print i+1"
   ]
  },
  {
   "cell_type": "code",
   "execution_count": 12,
   "metadata": {
    "collapsed": false
   },
   "outputs": [
    {
     "data": {
      "text/plain": [
       "243"
      ]
     },
     "execution_count": 12,
     "metadata": {},
     "output_type": "execute_result"
    }
   ],
   "source": [
    "sum(numDays[:8])"
   ]
  },
  {
   "cell_type": "code",
   "execution_count": 4,
   "metadata": {
    "collapsed": false
   },
   "outputs": [
    {
     "name": "stdout",
     "output_type": "stream",
     "text": [
      "1700 False True False False\n",
      "1701 False False True False\n",
      "1800 False True False False\n",
      "1917 False False True False\n",
      "1918 False False True False\n",
      "2000 True True False True\n",
      "2700 False True False False\n",
      "2004 False True True True\n"
     ]
    }
   ],
   "source": [
    "for y in [1700, 1701, 1800, 1917, 1918, 2000, 2700, 2004]:\n",
    "    print y, (y % 400==0), (y % 4 == 0), (y % 100 != 0), (y % 400==0) or ((y % 4 == 0) and (y % 100 != 0))"
   ]
  },
  {
   "cell_type": "markdown",
   "metadata": {
    "collapsed": true
   },
   "source": [
    "# A Square and  a Circle"
   ]
  },
  {
   "cell_type": "code",
   "execution_count": 20,
   "metadata": {
    "collapsed": false
   },
   "outputs": [],
   "source": [
    "testCase = '''20 16\n",
    "9 6 5\n",
    "16 14 8 14\n",
    "'''\n",
    "# orig. 16 14 8 14\n",
    "testCase = testCase.split('\\n')\n",
    "w,h = map(int, testCase[0].split())\n",
    "circleX, circleY, r = map(int, testCase[1].split())\n",
    "x1, y1, x3, y3 = map(int, testCase[2].split())\n",
    "if x1>x3:\n",
    "    x3, x1 = x1, x3\n",
    "    y3, y1 = y1, y3\n",
    "if x1==x3:\n",
    "    y1, y3 = min(y1, y3), max(y1, y3)"
   ]
  },
  {
   "cell_type": "code",
   "execution_count": 21,
   "metadata": {
    "collapsed": false
   },
   "outputs": [
    {
     "name": "stdout",
     "output_type": "stream",
     "text": [
      "(8, 14)\n",
      "(12.0, 18.0)\n",
      "(16, 14)\n",
      "(12.0, 10.0)\n"
     ]
    }
   ],
   "source": [
    "import math\n",
    "\n",
    "dx = x3-x1\n",
    "dy = y3-y1\n",
    "sx = x1+x3\n",
    "sy = y1+y3\n",
    "\n",
    "if dy==0:\n",
    "    x2, y2 = sx/2.0, y1+dx/2.0\n",
    "    x4, y4 = sx/2.0, y1-dx/2.0\n",
    "else:\n",
    "    A = 2\n",
    "    B = -sx\n",
    "    C = -2*dx/float(dy)\n",
    "    D = dx*sx/float(dy)\n",
    "    E = dx*dx+dy*dy\n",
    "\n",
    "    def f(x):\n",
    "        return dy*(x-x1)/float(dx)+y1\n",
    "    disc = (A*B+C*D)**2-(A**2+C**2)*(B**2+D**2-E**2)\n",
    "    x2 = (-A*B-C*D+math.sqrt(disc))/float(A**2+C**2)\n",
    "    x4 = (-A*B-C*D-math.sqrt(disc))/float(A**2+C**2)\n",
    "    \n",
    "    def g(x):\n",
    "        return -dx*(x-sx/2)/float(dy)+sy/2.0\n",
    "    y2 = g(x2)\n",
    "    y4 = g(x4)\n",
    "    if y2<y4:\n",
    "        x2, x4 = x4, x2\n",
    "        y2, y4 = y4, y2\n",
    "         \n",
    "def seeData():        \n",
    "    print(x1, y1)\n",
    "    print(x2, y2)\n",
    "    print(x3, y3)\n",
    "    print(x4, y4)\n",
    "\n",
    "        "
   ]
  },
  {
   "cell_type": "code",
   "execution_count": 30,
   "metadata": {
    "collapsed": false
   },
   "outputs": [
    {
     "name": "stdout",
     "output_type": "stream",
     "text": [
      "....................\n",
      ".........#..........\n",
      "......#######.......\n",
      ".....#########......\n",
      ".....#########......\n",
      ".....#########......\n",
      "....###########.....\n",
      ".....#########......\n",
      ".....#########......\n",
      ".....#########......\n",
      "......#######.......\n",
      ".........#.###......\n",
      "..........#####.....\n",
      ".........#######....\n",
      "........#########...\n",
      ".........#######....\n"
     ]
    }
   ],
   "source": [
    "def inCircle(i,j):\n",
    "    return (i-circleX)**2+(j-circleY)**2 <= r**2\n",
    "\n",
    "def inSquare(i, j):\n",
    "    b1 = (y1-y2)*(i-x1)+y1*(x1-x2) <= j*(x1-x2)\n",
    "    b2 = j*(x1-x2) <= (y1-y2)*(i-x3)+y3*(x1-x2)\n",
    "    if y1>y2:\n",
    "        b3 = (x2-x1)*(i-x3)+y3*(y1-y2) >= j*(y1-y2)\n",
    "        b4 = j*(y1-y2) >= (x2-x1)*(i-x1)+y1*(y1-y2)\n",
    "    else:\n",
    "        b3 = (x2-x1)*(i-x3)+y3*(y1-y2) <= j*(y1-y2)\n",
    "        b4 = j*(y1-y2) <= (x2-x1)*(i-x1)+y1*(y1-y2)\n",
    "    return b1 and b2 and b3 and b4\n",
    "def mark(b):\n",
    "    if b:\n",
    "        return \"#\"\n",
    "    return \".\"\n",
    "for j in range(h):\n",
    "    line = \"\"\n",
    "    for i in range(w):\n",
    "        line += mark(inCircle(i,j) or inSquare(i,j))\n",
    "        #print(mark(inCircle(i,j) or inSquare(i,j))),\n",
    "    print(line)"
   ]
  },
  {
   "cell_type": "code",
   "execution_count": 31,
   "metadata": {
    "collapsed": false
   },
   "outputs": [
    {
     "data": {
      "text/plain": [
       "Decimal('0.8')"
      ]
     },
     "execution_count": 31,
     "metadata": {},
     "output_type": "execute_result"
    }
   ],
   "source": [
    "from decimal import *\n",
    "Decimal(4)/5"
   ]
  },
  {
   "cell_type": "code",
   "execution_count": 40,
   "metadata": {
    "collapsed": false
   },
   "outputs": [],
   "source": [
    "import random\n",
    "w = random.randint(10, 100)\n",
    "h = random.randint(10, 100)\n",
    "circle"
   ]
  },
  {
   "cell_type": "markdown",
   "metadata": {},
   "source": [
    "## Decimal version"
   ]
  },
  {
   "cell_type": "code",
   "execution_count": 54,
   "metadata": {
    "collapsed": false
   },
   "outputs": [
    {
     "name": "stdout",
     "output_type": "stream",
     "text": [
      "3\n",
      "(Decimal('8'), Decimal('14'))\n",
      "(Decimal('105'), Decimal('89'))\n",
      "(Decimal('16'), Decimal('14'))\n",
      "(Decimal('-39'), Decimal('-65'))\n",
      "....................\n",
      ".........#..........\n",
      "......#######.......\n",
      ".....#########......\n",
      ".....#########......\n",
      ".....#########......\n",
      "....###########.....\n",
      ".....#########......\n",
      ".....#########......\n",
      ".....#########......\n",
      "......#######.......\n",
      ".........#..........\n",
      "....................\n",
      "....................\n",
      "....................\n",
      "....................\n"
     ]
    }
   ],
   "source": [
    "import random\n",
    "print(random.randint(0,9))\n",
    "\n",
    "randTest = False\n",
    "if randTest:\n",
    "    import random\n",
    "    w = random.randint(10, 100)\n",
    "    h = random.randint(10, 100)    \n",
    "    w,h = map(Decimal, [w,h])\n",
    "    circleX = random.randint(-100, 200)\n",
    "    circleY = random.randint(-100, 200)\n",
    "    r = random.randint(0, 100)\n",
    "    circleX, circleY, r = map(Decimal, [circleX, circleY, r])\n",
    "    x1 = random.randint(-100, 200)\n",
    "    y1 = random.randint(-100, 200)\n",
    "    x3 = random.randint(-100, 200)\n",
    "    y3 = random.randint(-100, 200)\n",
    "    x1, y1, x3, y3 = map(Decimal, [x1, y1, x3, y3])    \n",
    "    \n",
    "else:\n",
    "    testCase = '''20 16\n",
    "    9 6 5\n",
    "    16 14 8 14\n",
    "    '''\n",
    "    # orig. 16 14 8 14\n",
    "    testCase = testCase.split('\\n')\n",
    "    w,h = map(Decimal, testCase[0].split())\n",
    "    circleX, circleY, r = map(Decimal, testCase[1].split())\n",
    "    x1, y1, x3, y3 = map(Decimal, testCase[2].split())\n",
    "    \n",
    "if x1>x3:\n",
    "    x3, x1 = x1, x3\n",
    "    y3, y1 = y1, y3\n",
    "if x1==x3:\n",
    "    y1, y3 = min(y1, y3), max(y1, y3)\n",
    "\n",
    "def seeData():\n",
    "    print(x1, y1)\n",
    "    print(x2, y2)\n",
    "    print(x3, y3)\n",
    "    print(x4, y4)\n",
    "seeData()\n",
    "dx = x3-x1\n",
    "dy = y3-y1\n",
    "sx = x1+x3\n",
    "sy = y1+y3\n",
    "\n",
    "if dy==0:\n",
    "    x2, y2 = sx/Decimal(2), y1-dx/Decimal(2)\n",
    "    x4, y4 = sx/Decimal(2), y1+dx/Decimal(2)\n",
    "else:\n",
    "    \n",
    "    #A = 2\n",
    "    #B = -sx\n",
    "    #C = -2*dx/dy\n",
    "    #D = dx*sx/dy\n",
    "    #E = dx*dx+dy*dy\n",
    "    \n",
    "    A = -4*x1**2 + 8*x1*x3 - 4*x3**2 - 4*y1**2 + 8*y1*y3 - 4*y3**2\n",
    "    B = 4*x1**3 - 4*x1**2*x3 - 4*x1*x3**2 + 4*x3**3 + 4*x1*y1**2 + 4*x3*y1**2 - 8*x1*y1*y3 - 8*x3*y1*y3 + 4*x1*y3**2 + 4*x3*y3**2\n",
    "    C = -x1**4 + 2*x1**2*x3**2 - x3**4 - 4*x1*x3*y1**2 + y1**4 + 8*x1*x3*y1*y3 - 4*y1**3*y3 - 4*x1*x3*y3**2 + 6*y1**2*y3**2 - 4*y1*y3**3 + y3**4\n",
    "\n",
    "    def f(x):\n",
    "        return dy*(x-x1)/dx+y1\n",
    "    disc = B*B-4*A*C #(A*B+C*D)**2-(A**2+C**2)*(B**2+D**2-E**2)\n",
    "    x2 = (-B+disc.sqrt())/(2*A)   #(-A*B-C*D+disc.sqrt())/(A**2+C**2)\n",
    "    x4 = (-B-disc.sqrt())/(2*A)#(-A*B-C*D-disc.sqrt())/(A**2+C**2)\n",
    "    \n",
    "    def g(x):\n",
    "        return -dx*(x-sx/2)/(dy)+sy/2\n",
    "    y2 = g(x2)\n",
    "    y4 = g(x4)\n",
    "    if y2<y4:\n",
    "        x2, x4 = x4, x2\n",
    "        y2, y4 = y4, y2\n",
    "         \n",
    "def inCircle(i,j):\n",
    "    return (i-circleX)**2+(j-circleY)**2 <= r**2\n",
    "\n",
    "def inSquare(i, j):\n",
    "    b1 = (y1-y2)*(i-x1)+y1*(x1-x2) <= j*(x1-x2)\n",
    "    b2 = j*(x1-x2) <= (y1-y2)*(i-x3)+y3*(x1-x2)\n",
    "    if y1>y2:\n",
    "        b3 = (x2-x1)*(i-x3)+y3*(y1-y2) >= j*(y1-y2)\n",
    "        b4 = j*(y1-y2) >= (x2-x1)*(i-x1)+y1*(y1-y2)\n",
    "    else:\n",
    "        b3 = (x2-x1)*(i-x3)+y3*(y1-y2) <= j*(y1-y2)\n",
    "        b4 = j*(y1-y2) <= (x2-x1)*(i-x1)+y1*(y1-y2)\n",
    "    return b1 and b2 and b3 and b4\n",
    "def mark(b):\n",
    "    if b:\n",
    "        return \"#\"\n",
    "    return \".\"\n",
    "for j in range(h):\n",
    "    line = \"\"\n",
    "    for i in range(w):\n",
    "        line += mark(inCircle(i,j) or inSquare(i,j))\n",
    "        #print(mark(inCircle(i,j) or inSquare(i,j))),\n",
    "    print(line)"
   ]
  },
  {
   "cell_type": "code",
   "execution_count": null,
   "metadata": {
    "collapsed": true
   },
   "outputs": [],
   "source": []
  }
 ],
 "metadata": {
  "kernelspec": {
   "display_name": "Python 2",
   "language": "python",
   "name": "python2"
  },
  "language_info": {
   "codemirror_mode": {
    "name": "ipython",
    "version": 2
   },
   "file_extension": ".py",
   "mimetype": "text/x-python",
   "name": "python",
   "nbconvert_exporter": "python",
   "pygments_lexer": "ipython2",
   "version": "2.7.12"
  }
 },
 "nbformat": 4,
 "nbformat_minor": 1
}
