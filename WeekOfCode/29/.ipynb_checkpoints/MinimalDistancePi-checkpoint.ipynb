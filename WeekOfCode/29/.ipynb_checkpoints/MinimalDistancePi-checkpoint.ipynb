{
 "cells": [
  {
   "cell_type": "code",
   "execution_count": 2,
   "metadata": {
    "collapsed": false
   },
   "outputs": [
    {
     "data": {
      "text/plain": [
       "49"
      ]
     },
     "execution_count": 2,
     "metadata": {},
     "output_type": "execute_result"
    }
   ],
   "source": [
    "pim3 = \"1415926535897932384626433832795028841971693993751\"\n",
    "len(pim3)"
   ]
  },
  {
   "cell_type": "code",
   "execution_count": 3,
   "metadata": {
    "collapsed": false
   },
   "outputs": [
    {
     "data": {
      "text/plain": [
       "'141'"
      ]
     },
     "execution_count": 3,
     "metadata": {},
     "output_type": "execute_result"
    }
   ],
   "source": [
    "pim3[:3]"
   ]
  },
  {
   "cell_type": "code",
   "execution_count": 12,
   "metadata": {
    "collapsed": false
   },
   "outputs": [
    {
     "data": {
      "text/plain": [
       "0.14159000000000002"
      ]
     },
     "execution_count": 12,
     "metadata": {},
     "output_type": "execute_result"
    }
   ],
   "source": [
    "n = 5\n",
    "float(pim3[:n])*10**(-n)"
   ]
  },
  {
   "cell_type": "code",
   "execution_count": 13,
   "metadata": {
    "collapsed": false
   },
   "outputs": [
    {
     "data": {
      "text/plain": [
       "3.14159"
      ]
     },
     "execution_count": 13,
     "metadata": {},
     "output_type": "execute_result"
    }
   ],
   "source": [
    "pi = float('3.' + pim3[:n]); pi"
   ]
  },
  {
   "cell_type": "code",
   "execution_count": null,
   "metadata": {
    "collapsed": false
   },
   "outputs": [],
   "source": [
    "minDenom = 1\n",
    "maxDenom = 10\n",
    "n= 31 # up to 49\n",
    "p2 = 10**n\n",
    "p1 = 3*p2+int(pim3[:n])\n",
    "float(3+p1/p2)\n",
    "def closer2Pi(n, d, x, y):\n",
    "    lhs = y*abs(n*p2-y*p1)\n",
    "    rhs = d*abs(x*p2-y*p1); #print(\"LHS and RHS: {0}  {0}\".format(lhs, rhs))\n",
    "    if lhs <= rhs:\n",
    "        return n, d\n",
    "    return x, y\n",
    "\n",
    "def ceildiv(a, b):\n",
    "    return -(-a // b)\n",
    "\n",
    "# Find largest k/d <= p1/p2\n",
    "d = minDenom\n",
    "k = 3*minDenom\n",
    "while (k+1)*p2 < d*p1:\n",
    "    k += 1\n",
    "bestN, bestD = closer2Pi(k, d, k+1, d)\n",
    "\n",
    "while d < maxDenom:\n",
    "    leftNum = ceildiv(k*(d+1), d)\n",
    "    rightNum = ((k+1)*(d+1)) // d\n",
    "    bestN, bestD = closer2Pi(bestN, bestD, leftNum, d+1)\n",
    "    bestN, bestD = closer2Pi(bestN, bestD, rightNum, d+1) \n",
    "    k = leftNum\n",
    "print(\"{}/{}\".format(bestN, bestD))    "
   ]
  },
  {
   "cell_type": "code",
   "execution_count": 34,
   "metadata": {
    "collapsed": false
   },
   "outputs": [
    {
     "data": {
      "text/plain": [
       "(22, 7)"
      ]
     },
     "execution_count": 34,
     "metadata": {},
     "output_type": "execute_result"
    }
   ],
   "source": [
    "closer2Pi(31, 10, 22, 7)"
   ]
  },
  {
   "cell_type": "code",
   "execution_count": null,
   "metadata": {
    "collapsed": true
   },
   "outputs": [],
   "source": []
  }
 ],
 "metadata": {
  "kernelspec": {
   "display_name": "Python 3",
   "language": "python",
   "name": "python3"
  },
  "language_info": {
   "codemirror_mode": {
    "name": "ipython",
    "version": 3
   },
   "file_extension": ".py",
   "mimetype": "text/x-python",
   "name": "python",
   "nbconvert_exporter": "python",
   "pygments_lexer": "ipython3",
   "version": "3.5.2"
  }
 },
 "nbformat": 4,
 "nbformat_minor": 1
}
